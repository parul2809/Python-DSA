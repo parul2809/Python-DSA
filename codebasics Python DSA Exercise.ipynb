{
 "cells": [
  {
   "cell_type": "markdown",
   "id": "81109651",
   "metadata": {},
   "source": [
    "### Task 1\n",
    "\n",
    "Let us say your expense for every month are listed below,\n",
    "\n",
    "January - 2200\n",
    "\n",
    "February - 2350\n",
    "\n",
    "March - 2600\n",
    "\n",
    "April - 2130\n",
    "\n",
    "May - 2190\n",
    "\n",
    "Create a list to store these monthly expenses and using that find out,\n",
    "\n",
    "1. In Feb, how many dollars you spent extra compare to January?\n",
    "2. Find out your total expense in first quarter (first three months) of the year.\n",
    "3. Find out if you spent exactly 2000 dollars in any month\n",
    "4. June month just finished and your expense is 1980 dollar. Add this item to our monthly expense list\n",
    "5. You returned an item that you bought in a month of April and\n",
    "got a refund of 200$. Make a correction to your monthly expense list\n",
    "based on this"
   ]
  },
  {
   "cell_type": "code",
   "execution_count": 28,
   "id": "b3361dff",
   "metadata": {},
   "outputs": [],
   "source": [
    "monthly_expenses = [{\"January\": 2200, \n",
    "                     \"February\": 2350, \n",
    "                     \"March\": 2600, \n",
    "                     \"April\": 2130, \n",
    "                     \"May\": 2190}]"
   ]
  },
  {
   "cell_type": "code",
   "execution_count": 29,
   "id": "3ca4d97c",
   "metadata": {},
   "outputs": [
    {
     "name": "stdout",
     "output_type": "stream",
     "text": [
      "150\n"
     ]
    }
   ],
   "source": [
    "# 1.In Feb, how many dollars you spent extra compare to January?\n",
    "print(monthly_expenses[0]['February']-monthly_expenses[0]['January'])"
   ]
  },
  {
   "cell_type": "code",
   "execution_count": 30,
   "id": "a1a5a342",
   "metadata": {},
   "outputs": [
    {
     "name": "stdout",
     "output_type": "stream",
     "text": [
      "7150\n"
     ]
    }
   ],
   "source": [
    "# 2.Find out your total expense in first quarter (first three months) of the year.\n",
    "print(monthly_expenses[0]['January'] + \n",
    "      monthly_expenses[0]['February']+\n",
    "      monthly_expenses[0]['March'])"
   ]
  },
  {
   "cell_type": "code",
   "execution_count": 31,
   "id": "6636b1eb",
   "metadata": {},
   "outputs": [
    {
     "name": "stdout",
     "output_type": "stream",
     "text": [
      "No, didn't spend exactly 2000 dollars in any month\n"
     ]
    }
   ],
   "source": [
    "# 3.Find out if you spent exactly 2000 dollars in any month\n",
    "for i in monthly_expenses[0]:\n",
    "    if monthly_expenses[0][i]==2000:\n",
    "        print(\"Yes, spent exactly 2000 dollars in \", month)\n",
    "else:\n",
    "    print('No, didn\\'t spend exactly 2000 dollars in any month')"
   ]
  },
  {
   "cell_type": "code",
   "execution_count": 32,
   "id": "93a5e0bf",
   "metadata": {},
   "outputs": [
    {
     "data": {
      "text/plain": [
       "{'January': 2200,\n",
       " 'February': 2350,\n",
       " 'March': 2600,\n",
       " 'April': 2130,\n",
       " 'May': 2190,\n",
       " 'June': 1980}"
      ]
     },
     "execution_count": 32,
     "metadata": {},
     "output_type": "execute_result"
    }
   ],
   "source": [
    "# 4.June month just finished and your expense is 1980 dollar. Add this item to our monthly expense list\n",
    "monthly_expenses[0]['June'] = 1980\n",
    "monthly_expenses[0]"
   ]
  },
  {
   "cell_type": "code",
   "execution_count": 33,
   "id": "078f75d5",
   "metadata": {},
   "outputs": [
    {
     "data": {
      "text/plain": [
       "{'January': 2200,\n",
       " 'February': 2350,\n",
       " 'March': 2600,\n",
       " 'April': 1930,\n",
       " 'May': 2190,\n",
       " 'June': 1980}"
      ]
     },
     "execution_count": 33,
     "metadata": {},
     "output_type": "execute_result"
    }
   ],
   "source": [
    "# 5.You returned an item that you bought in a month of April and got a refund of 200$.\n",
    "# Make a correction to your monthly expense list based on this\n",
    "monthly_expenses[0]['April']-=200\n",
    "monthly_expenses[0]"
   ]
  },
  {
   "cell_type": "markdown",
   "id": "ae14200e",
   "metadata": {},
   "source": [
    "---------------------------------------------------------------------------------------------------------------------------------"
   ]
  },
  {
   "cell_type": "markdown",
   "id": "4e8a356e",
   "metadata": {},
   "source": [
    "### Task 2 \n",
    "\n",
    "You have a list of your favourite marvel super heros.\n",
    "\n",
    "heros=['spider man','thor','hulk','iron man','captain america']\n",
    "\n",
    "Using this find out,\n",
    "\n",
    "1. Length of the list\n",
    "2. Add 'black panther' at the end of this list\n",
    "3. You realize that you need to add 'black panther' after 'hulk',\n",
    "   so remove it from the list first and then add it after 'hulk'\n",
    "4. Now you don't like thor and hulk because they get angry easily :)\n",
    "   So you want to remove thor and hulk from list and replace them with doctor strange (because he is cool).\n",
    "   Do that with one line of code.\n",
    "5. Sort the heros list in alphabetical order (Hint. Use dir() functions to list down all functions available in list)"
   ]
  },
  {
   "cell_type": "code",
   "execution_count": 72,
   "id": "d5fe72bc",
   "metadata": {},
   "outputs": [],
   "source": [
    "heros = ['spider man', 'thor', 'hulk', 'iron man', 'captain america']"
   ]
  },
  {
   "cell_type": "code",
   "execution_count": 73,
   "id": "0be82af6",
   "metadata": {},
   "outputs": [
    {
     "name": "stdout",
     "output_type": "stream",
     "text": [
      "5\n"
     ]
    }
   ],
   "source": [
    "# 1.Length of the list\n",
    "print(len(heros))"
   ]
  },
  {
   "cell_type": "code",
   "execution_count": 74,
   "id": "db133814",
   "metadata": {},
   "outputs": [
    {
     "name": "stdout",
     "output_type": "stream",
     "text": [
      "['spider man', 'thor', 'hulk', 'iron man', 'captain america', 'black panther']\n"
     ]
    }
   ],
   "source": [
    "# 2.Add 'black panther' at the end of this list\n",
    "heros.append('black panther')\n",
    "print(heros)"
   ]
  },
  {
   "cell_type": "code",
   "execution_count": 75,
   "id": "3f04999d",
   "metadata": {},
   "outputs": [
    {
     "name": "stdout",
     "output_type": "stream",
     "text": [
      "['spider man', 'thor', 'hulk', 'black panther', 'iron man', 'captain america']\n"
     ]
    }
   ],
   "source": [
    "# 3.You realize that you need to add 'black panther' after 'hulk', so remove it from the list first and then add it after 'hulk'\n",
    "heros.remove('black panther')\n",
    "heros.insert(3, 'black panther')\n",
    "print(heros)"
   ]
  },
  {
   "cell_type": "code",
   "execution_count": 76,
   "id": "8f5fad87",
   "metadata": {},
   "outputs": [
    {
     "data": {
      "text/plain": [
       "['spider man',\n",
       " 'doctor strange',\n",
       " 'black panther',\n",
       " 'iron man',\n",
       " 'captain america']"
      ]
     },
     "execution_count": 76,
     "metadata": {},
     "output_type": "execute_result"
    }
   ],
   "source": [
    "# 4.Now you don't like thor and hulk because they get angry easily :) \n",
    "# So you want to remove thor and hulk from list and replace them with doctor strange (because he is cool). \n",
    "# Do that with one line of code.\n",
    "heros[1:3] = ['doctor strange']\n",
    "heros"
   ]
  },
  {
   "cell_type": "code",
   "execution_count": 77,
   "id": "78f88e62",
   "metadata": {},
   "outputs": [
    {
     "data": {
      "text/plain": [
       "['black panther',\n",
       " 'captain america',\n",
       " 'doctor strange',\n",
       " 'iron man',\n",
       " 'spider man']"
      ]
     },
     "execution_count": 77,
     "metadata": {},
     "output_type": "execute_result"
    }
   ],
   "source": [
    "# 5.Sort the heros list in alphabetical order (Hint. Use dir() functions to list down all functions available in list)\n",
    "heros.sort()\n",
    "heros"
   ]
  },
  {
   "cell_type": "markdown",
   "id": "5bf67aa4",
   "metadata": {},
   "source": [
    "--------------------------------------------------------------------------------------------------------------------------------"
   ]
  },
  {
   "cell_type": "markdown",
   "id": "27f6186c",
   "metadata": {},
   "source": [
    "### Task 3 \n",
    "\n",
    "Create a list of all odd numbers between 1 and a max number. Max number is something you need to take from a user using input() function"
   ]
  },
  {
   "cell_type": "code",
   "execution_count": 64,
   "id": "8bed64c7",
   "metadata": {},
   "outputs": [
    {
     "name": "stdout",
     "output_type": "stream",
     "text": [
      "Enter max number: 15\n",
      "[1, 3, 5, 7, 9, 11, 13]\n"
     ]
    }
   ],
   "source": [
    "def list_of_odds_till_max(): \n",
    "    max_number = int(input(\"Enter max number: \"))\n",
    "    li_odds = [i for i in range(1, max_number, 2)]\n",
    "    print(li_odds)\n",
    "    \n",
    "list_of_odds_till_max()"
   ]
  },
  {
   "cell_type": "code",
   "execution_count": null,
   "id": "eccc0772",
   "metadata": {},
   "outputs": [],
   "source": []
  }
 ],
 "metadata": {
  "kernelspec": {
   "display_name": "Python 3",
   "language": "python",
   "name": "python3"
  },
  "language_info": {
   "codemirror_mode": {
    "name": "ipython",
    "version": 3
   },
   "file_extension": ".py",
   "mimetype": "text/x-python",
   "name": "python",
   "nbconvert_exporter": "python",
   "pygments_lexer": "ipython3",
   "version": "3.8.8"
  }
 },
 "nbformat": 4,
 "nbformat_minor": 5
}
